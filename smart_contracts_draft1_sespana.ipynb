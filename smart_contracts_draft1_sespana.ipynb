{
 "cells": [
  {
   "attachments": {},
   "cell_type": "markdown",
   "metadata": {},
   "source": [
    "https://github.com/mwritescode/slither-audited-smart-contracts\n",
    "\n",
    "The bytecode was downloaded using the Web3.py library, in particular the web3.eth.getCode()\n",
    "\n",
    "Solidity Smart Contracts that have been verified on Etherscan.io\n",
    "\n",
    "classification of vulnerabilities\n",
    "\n",
    "both binary and multilabel text\n",
    "\n",
    "este trabajo: text classification\n",
    "\n",
    "evaluated based on the accuracy\n",
    "\n",
    "nota peresonal no poner en ppt: source codes are in Solidity\n",
    "\n",
    "label: cleaned up version or a multi-label version\n",
    "\n",
    "data fields: address, source_code, bytecode, slither\n",
    "nota personal: una fila tardaba en compilar sta \n",
    "nota personal no poner en ppt: train, test and validation splits are only provided for those configurations that do not include \"all-\" in their names\n",
    "nota personal no poner en ppt: a pesar de 4 columnas el tiempo de compilación era considerable. OpenAI mencionó que ven if the DataFrame has only four rows, if the data within those rows is complex, such as having many columns, long strings or complex object types, then it can take longer to execute commands on that data."
   ]
  },
  {
   "cell_type": "code",
   "execution_count": 16,
   "metadata": {},
   "outputs": [],
   "source": [
    "#!pip install web3\n",
    "#!pip install datasets\n",
    "#!pip install numpy==1.19.5\n",
    "\n",
    "import numpy as np\n",
    "import pandas as pd\n",
    "import re\n",
    "import seaborn as sns\n",
    "from hexbytes import HexBytes\n",
    "import matplotlib.pyplot as plt\n",
    "from datasets import load_dataset\n",
    "import sys\n",
    "sys.path.append('MCD_DL_proyecto2')\n",
    "import funciones\n",
    "import re"
   ]
  },
  {
   "cell_type": "code",
   "execution_count": 51,
   "metadata": {},
   "outputs": [
    {
     "name": "stderr",
     "output_type": "stream",
     "text": [
      "Found cached dataset slither-audited-smart-contracts (/Users/1thaliaespana1/.cache/huggingface/datasets/mwritescode___slither-audited-smart-contracts/big-multilabel/1.1.0/4cf503b59ce9d3157914e47f6253de773b7ab828f46642685d4b470b88ca1f13)\n",
      "Found cached dataset slither-audited-smart-contracts (/Users/1thaliaespana1/.cache/huggingface/datasets/mwritescode___slither-audited-smart-contracts/big-multilabel/1.1.0/4cf503b59ce9d3157914e47f6253de773b7ab828f46642685d4b470b88ca1f13)\n",
      "Found cached dataset slither-audited-smart-contracts (/Users/1thaliaespana1/.cache/huggingface/datasets/mwritescode___slither-audited-smart-contracts/big-multilabel/1.1.0/4cf503b59ce9d3157914e47f6253de773b7ab828f46642685d4b470b88ca1f13)\n"
     ]
    }
   ],
   "source": [
    "#extraido de Git repo mwritescode/slither-audited-smart-contracts\n",
    "\n",
    "train_set_original = load_dataset(\"mwritescode/slither-audited-smart-contracts\", 'big-multilabel', split='train') #verification_mode=no_checks\n",
    "test_set_original = load_dataset(\"mwritescode/slither-audited-smart-contracts\", 'big-multilabel', split='test')\n",
    "val_set_original = load_dataset(\"mwritescode/slither-audited-smart-contracts\", 'big-multilabel', split='validation')"
   ]
  },
  {
   "cell_type": "code",
   "execution_count": 54,
   "metadata": {},
   "outputs": [],
   "source": [
    "#COLS_TO_REMOVE = ['source_code', 'bytecode']\n",
    "#LABELS = {0:'access-control', 1:'arithmetic', 2:'other', 3:'reentrancy', 4:'safe', 5:'unchecked-calls'}\n",
    "\n",
    "#preparar datos: \n",
    "def preparacion(df1):\n",
    "\n",
    "    df1=pd.DataFrame(df1) #convertimos a data frame\n",
    "    target=[4 in lst for lst in df1['slither']] #cambiamos variable objetivo a 1: si hay un contrato seguro, 0 no seguro-hay 4 tipos de no seguro)\n",
    "    df1['slither']=pd.DataFrame(target).astype(int) #sustituimos lista original de objetivo por booleano target\n",
    "    bytecod=pd.factorize(df1['bytecode']) #vemos que bytecode es diferente para cada entrada\n",
    "    df1['bytecode']=bytecod[0].astype(str)\n",
    "    df1['source_code']=pd.DataFrame.to_string(df1['source-code']).decontracted(df1['source_code'])\n",
    "    df1=pd.DataFrame.to_string(df1).remove_stopwords(df1)\n",
    "    TAG_RE = re.compile(r\"(\\\".*?\\\"|\\'.*?\\')|(/\\*.*?\\*/|//[^\\r\\n]*$)\")\n",
    "    df1 = TAG_RE.sub('', df1)\n",
    "    return df1\n",
    "\n",
    "prueba=pd.DataFrame(train_set_original).head()"
   ]
  },
  {
   "cell_type": "code",
   "execution_count": 53,
   "metadata": {},
   "outputs": [
    {
     "ename": "AttributeError",
     "evalue": "module 'pandas' has no attribute 'to_string'",
     "output_type": "error",
     "traceback": [
      "\u001b[0;31m---------------------------------------------------------------------------\u001b[0m",
      "\u001b[0;31mAttributeError\u001b[0m                            Traceback (most recent call last)",
      "Cell \u001b[0;32mIn[53], line 1\u001b[0m\n\u001b[0;32m----> 1\u001b[0m preparacion(prueba) \u001b[39m#.to_parquet(\"train_DLfinal.parquet\")\u001b[39;00m\n\u001b[1;32m      3\u001b[0m \u001b[39m#añadir regularización\u001b[39;00m\n",
      "Cell \u001b[0;32mIn[52], line 12\u001b[0m, in \u001b[0;36mpreparacion\u001b[0;34m(df1)\u001b[0m\n\u001b[1;32m     10\u001b[0m bytecod\u001b[39m=\u001b[39mpd\u001b[39m.\u001b[39mfactorize(df1[\u001b[39m'\u001b[39m\u001b[39mbytecode\u001b[39m\u001b[39m'\u001b[39m]) \u001b[39m#vemos que bytecode es diferente para cada entrada\u001b[39;00m\n\u001b[1;32m     11\u001b[0m df1[\u001b[39m'\u001b[39m\u001b[39mbytecode\u001b[39m\u001b[39m'\u001b[39m]\u001b[39m=\u001b[39mbytecod[\u001b[39m0\u001b[39m]\u001b[39m.\u001b[39mastype(\u001b[39mstr\u001b[39m)\n\u001b[0;32m---> 12\u001b[0m df1[\u001b[39m'\u001b[39m\u001b[39msource_code\u001b[39m\u001b[39m'\u001b[39m]\u001b[39m=\u001b[39mpd\u001b[39m.\u001b[39;49mto_string(df1[\u001b[39m'\u001b[39m\u001b[39msource-code\u001b[39m\u001b[39m'\u001b[39m])\u001b[39m.\u001b[39mdecontracted(df1[\u001b[39m'\u001b[39m\u001b[39msource_code\u001b[39m\u001b[39m'\u001b[39m])\n\u001b[1;32m     14\u001b[0m df1\u001b[39m=\u001b[39mpd\u001b[39m.\u001b[39mto_string(df1)\u001b[39m.\u001b[39mremove_stopwords(df1)\n\u001b[1;32m     16\u001b[0m TAG_RE \u001b[39m=\u001b[39m re\u001b[39m.\u001b[39mcompile(\u001b[39mr\u001b[39m\u001b[39m\"\u001b[39m\u001b[39m(\u001b[39m\u001b[39m\\\"\u001b[39;00m\u001b[39m.*?\u001b[39m\u001b[39m\\\"\u001b[39;00m\u001b[39m|\u001b[39m\u001b[39m\\\u001b[39m\u001b[39m'\u001b[39m\u001b[39m.*?\u001b[39m\u001b[39m\\\u001b[39m\u001b[39m'\u001b[39m\u001b[39m)|(/\u001b[39m\u001b[39m\\\u001b[39m\u001b[39m*.*?\u001b[39m\u001b[39m\\\u001b[39m\u001b[39m*/|//[^\u001b[39m\u001b[39m\\\u001b[39m\u001b[39mr\u001b[39m\u001b[39m\\\u001b[39m\u001b[39mn]*$)\u001b[39m\u001b[39m\"\u001b[39m)\n",
      "File \u001b[0;32m~/opt/anaconda3/envs/itam/lib/python3.11/site-packages/pandas/__init__.py:264\u001b[0m, in \u001b[0;36m__getattr__\u001b[0;34m(name)\u001b[0m\n\u001b[1;32m    260\u001b[0m     \u001b[39mfrom\u001b[39;00m \u001b[39mpandas\u001b[39;00m\u001b[39m.\u001b[39;00m\u001b[39mcore\u001b[39;00m\u001b[39m.\u001b[39;00m\u001b[39marrays\u001b[39;00m\u001b[39m.\u001b[39;00m\u001b[39msparse\u001b[39;00m \u001b[39mimport\u001b[39;00m SparseArray \u001b[39mas\u001b[39;00m _SparseArray\n\u001b[1;32m    262\u001b[0m     \u001b[39mreturn\u001b[39;00m _SparseArray\n\u001b[0;32m--> 264\u001b[0m \u001b[39mraise\u001b[39;00m \u001b[39mAttributeError\u001b[39;00m(\u001b[39mf\u001b[39m\u001b[39m\"\u001b[39m\u001b[39mmodule \u001b[39m\u001b[39m'\u001b[39m\u001b[39mpandas\u001b[39m\u001b[39m'\u001b[39m\u001b[39m has no attribute \u001b[39m\u001b[39m'\u001b[39m\u001b[39m{\u001b[39;00mname\u001b[39m}\u001b[39;00m\u001b[39m'\u001b[39m\u001b[39m\"\u001b[39m)\n",
      "\u001b[0;31mAttributeError\u001b[0m: module 'pandas' has no attribute 'to_string'"
     ]
    }
   ],
   "source": [
    "preparacion(prueba) #.to_parquet(\"train_DLfinal.parquet\")\n",
    "\n",
    "#añadir regularización"
   ]
  },
  {
   "cell_type": "code",
   "execution_count": null,
   "metadata": {},
   "outputs": [],
   "source": []
  },
  {
   "cell_type": "code",
   "execution_count": null,
   "metadata": {},
   "outputs": [],
   "source": [
    "preparacion(test_set_original).to_parquet(\"test_DLfinal.parquet\")"
   ]
  },
  {
   "cell_type": "code",
   "execution_count": null,
   "metadata": {},
   "outputs": [
    {
     "data": {
      "text/html": [
       "<div>\n",
       "<style scoped>\n",
       "    .dataframe tbody tr th:only-of-type {\n",
       "        vertical-align: middle;\n",
       "    }\n",
       "\n",
       "    .dataframe tbody tr th {\n",
       "        vertical-align: top;\n",
       "    }\n",
       "\n",
       "    .dataframe thead th {\n",
       "        text-align: right;\n",
       "    }\n",
       "</style>\n",
       "<table border=\"1\" class=\"dataframe\">\n",
       "  <thead>\n",
       "    <tr style=\"text-align: right;\">\n",
       "      <th></th>\n",
       "      <th>address</th>\n",
       "      <th>source_code</th>\n",
       "      <th>bytecode</th>\n",
       "      <th>slither</th>\n",
       "    </tr>\n",
       "  </thead>\n",
       "  <tbody>\n",
       "    <tr>\n",
       "      <th>0</th>\n",
       "      <td>0x006699d34AA3013605d468d2755A2Fe59A16B12B</td>\n",
       "      <td>pragma solidity 0.5.4;\\n\\ninterface IERC20 {\\n...</td>\n",
       "      <td>0</td>\n",
       "      <td>0</td>\n",
       "    </tr>\n",
       "    <tr>\n",
       "      <th>1</th>\n",
       "      <td>0x00c83aeCC790e8a4453e5dD3B0B4b3680501a7A7</td>\n",
       "      <td>pragma solidity 0.6.10;\\npragma experimental A...</td>\n",
       "      <td>1</td>\n",
       "      <td>0</td>\n",
       "    </tr>\n",
       "    <tr>\n",
       "      <th>2</th>\n",
       "      <td>0x010c5322d78c88ca18282b0a072a8913648b3038</td>\n",
       "      <td>pragma solidity 0.6.5;\\npragma experimental AB...</td>\n",
       "      <td>2</td>\n",
       "      <td>1</td>\n",
       "    </tr>\n",
       "    <tr>\n",
       "      <th>3</th>\n",
       "      <td>0x0114622386c1a00686e594c70682d7aa0f8afa29</td>\n",
       "      <td>pragma solidity 0.6.6;\\n\\nlibrary Address {\\n\\...</td>\n",
       "      <td>3</td>\n",
       "      <td>1</td>\n",
       "    </tr>\n",
       "    <tr>\n",
       "      <th>4</th>\n",
       "      <td>0x01b952402442630232f32d48380a557015b7c5ec</td>\n",
       "      <td>pragma solidity 0.7.4;\\n\\nenum MathError { NO_...</td>\n",
       "      <td>4</td>\n",
       "      <td>0</td>\n",
       "    </tr>\n",
       "    <tr>\n",
       "      <th>...</th>\n",
       "      <td>...</td>\n",
       "      <td>...</td>\n",
       "      <td>...</td>\n",
       "      <td>...</td>\n",
       "    </tr>\n",
       "    <tr>\n",
       "      <th>79636</th>\n",
       "      <td>0x80d19b2bf1743371855732971cec24fe9dcd1417</td>\n",
       "      <td>/**\\n *Submitted for verification at Etherscan...</td>\n",
       "      <td>76629</td>\n",
       "      <td>1</td>\n",
       "    </tr>\n",
       "    <tr>\n",
       "      <th>79637</th>\n",
       "      <td>0x810b54cdb3d8c97d857b500cdfdb5715e1d27837</td>\n",
       "      <td>contract ERC20Basic {\\n  uint256 public totalS...</td>\n",
       "      <td>76630</td>\n",
       "      <td>1</td>\n",
       "    </tr>\n",
       "    <tr>\n",
       "      <th>79638</th>\n",
       "      <td>0x8142871ce8e9b69af8b50369fde8f9959d699fa6</td>\n",
       "      <td>contract Bodies2 {\\n\\nstring public constant b...</td>\n",
       "      <td>76631</td>\n",
       "      <td>1</td>\n",
       "    </tr>\n",
       "    <tr>\n",
       "      <th>79639</th>\n",
       "      <td>0x8154094af8dc315b31c6ec746260003ee828fd93</td>\n",
       "      <td>contract LifeSet_005 {\\n    \\n// part.I_fixe.....</td>\n",
       "      <td>76632</td>\n",
       "      <td>1</td>\n",
       "    </tr>\n",
       "    <tr>\n",
       "      <th>79640</th>\n",
       "      <td>0x817D4Ea3b56F6ccfEA97DAfa86336c964f27598c</td>\n",
       "      <td>contract Token {\\n\\n    /// @return total amou...</td>\n",
       "      <td>76633</td>\n",
       "      <td>0</td>\n",
       "    </tr>\n",
       "  </tbody>\n",
       "</table>\n",
       "<p>79641 rows × 4 columns</p>\n",
       "</div>"
      ],
      "text/plain": [
       "                                          address  \\\n",
       "0      0x006699d34AA3013605d468d2755A2Fe59A16B12B   \n",
       "1      0x00c83aeCC790e8a4453e5dD3B0B4b3680501a7A7   \n",
       "2      0x010c5322d78c88ca18282b0a072a8913648b3038   \n",
       "3      0x0114622386c1a00686e594c70682d7aa0f8afa29   \n",
       "4      0x01b952402442630232f32d48380a557015b7c5ec   \n",
       "...                                           ...   \n",
       "79636  0x80d19b2bf1743371855732971cec24fe9dcd1417   \n",
       "79637  0x810b54cdb3d8c97d857b500cdfdb5715e1d27837   \n",
       "79638  0x8142871ce8e9b69af8b50369fde8f9959d699fa6   \n",
       "79639  0x8154094af8dc315b31c6ec746260003ee828fd93   \n",
       "79640  0x817D4Ea3b56F6ccfEA97DAfa86336c964f27598c   \n",
       "\n",
       "                                             source_code bytecode  slither  \n",
       "0      pragma solidity 0.5.4;\\n\\ninterface IERC20 {\\n...        0        0  \n",
       "1      pragma solidity 0.6.10;\\npragma experimental A...        1        0  \n",
       "2      pragma solidity 0.6.5;\\npragma experimental AB...        2        1  \n",
       "3      pragma solidity 0.6.6;\\n\\nlibrary Address {\\n\\...        3        1  \n",
       "4      pragma solidity 0.7.4;\\n\\nenum MathError { NO_...        4        0  \n",
       "...                                                  ...      ...      ...  \n",
       "79636  /**\\n *Submitted for verification at Etherscan...    76629        1  \n",
       "79637  contract ERC20Basic {\\n  uint256 public totalS...    76630        1  \n",
       "79638  contract Bodies2 {\\n\\nstring public constant b...    76631        1  \n",
       "79639  contract LifeSet_005 {\\n    \\n// part.I_fixe.....    76632        1  \n",
       "79640  contract Token {\\n\\n    /// @return total amou...    76633        0  \n",
       "\n",
       "[79641 rows x 4 columns]"
      ]
     },
     "execution_count": 47,
     "metadata": {},
     "output_type": "execute_result"
    }
   ],
   "source": [
    "preparacion(val_set_original).to_parquet(\"val_DLfinal.parquet\")"
   ]
  },
  {
   "attachments": {},
   "cell_type": "markdown",
   "metadata": {},
   "source": [
    "## Referencias\n",
    "- https://github.com/mwritescode/slither-audited-smart-contracts\n",
    "- "
   ]
  }
 ],
 "metadata": {
  "kernelspec": {
   "display_name": "itam",
   "language": "python",
   "name": "python3"
  },
  "language_info": {
   "codemirror_mode": {
    "name": "ipython",
    "version": 3
   },
   "file_extension": ".py",
   "mimetype": "text/x-python",
   "name": "python",
   "nbconvert_exporter": "python",
   "pygments_lexer": "ipython3",
   "version": "3.11.0"
  },
  "orig_nbformat": 4
 },
 "nbformat": 4,
 "nbformat_minor": 2
}
