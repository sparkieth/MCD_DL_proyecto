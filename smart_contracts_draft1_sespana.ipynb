{
 "cells": [
  {
   "attachments": {},
   "cell_type": "markdown",
   "metadata": {},
   "source": [
    "https://github.com/mwritescode/slither-audited-smart-contracts\n",
    "The bytecode was downloaded using the Web3.py library, in particular the web3.eth.getCode()\n",
    "\n",
    "Solidity Smart Contracts that have been verified on Etherscan.io\n",
    "classification of vulnerabilities\n",
    "both binary and multilabel text\n",
    "este trabajo: text classification\n",
    "evaluated based on the accuracy\n",
    "nota peresonal no poner en ppt: source codes are in Solidity\n",
    "label: cleaned up version or a multi-label version\n",
    "data fields: address, source_code, bytecode, slither\n",
    "nota personal no poner en ppt: train, test and validation splits are only provided for those configurations that do not include \"all-\" in their names"
   ]
  },
  {
   "cell_type": "code",
   "execution_count": 55,
   "metadata": {},
   "outputs": [],
   "source": [
    "#!pip install web3\n",
    "#!pip install datasets\n",
    "#!pip install numpy==1.19.5\n",
    "\n",
    "import numpy as np\n",
    "import pandas as pd\n",
    "import re\n",
    "import seaborn as sns\n",
    "from hexbytes import HexBytes\n",
    "import matplotlib.pyplot as plt\n",
    "from datasets import load_dataset\n",
    "import sys\n",
    "sys.path.append('MCD_DL_proyecto2')\n",
    "import funciones"
   ]
  },
  {
   "cell_type": "code",
   "execution_count": 57,
   "metadata": {},
   "outputs": [
    {
     "name": "stderr",
     "output_type": "stream",
     "text": [
      "Found cached dataset slither-audited-smart-contracts (/Users/1thaliaespana1/.cache/huggingface/datasets/mwritescode___slither-audited-smart-contracts/big-multilabel/1.1.0/4cf503b59ce9d3157914e47f6253de773b7ab828f46642685d4b470b88ca1f13)\n",
      "Found cached dataset slither-audited-smart-contracts (/Users/1thaliaespana1/.cache/huggingface/datasets/mwritescode___slither-audited-smart-contracts/big-multilabel/1.1.0/4cf503b59ce9d3157914e47f6253de773b7ab828f46642685d4b470b88ca1f13)\n",
      "Found cached dataset slither-audited-smart-contracts (/Users/1thaliaespana1/.cache/huggingface/datasets/mwritescode___slither-audited-smart-contracts/big-multilabel/1.1.0/4cf503b59ce9d3157914e47f6253de773b7ab828f46642685d4b470b88ca1f13)\n"
     ]
    }
   ],
   "source": [
    "#extraido de Git repo mwritescode/slither-audited-smart-contracts\n",
    "\n",
    "train_set = load_dataset(\"mwritescode/slither-audited-smart-contracts\", 'big-multilabel', split='train') #verification_mode=no_checks\n",
    "test_set = load_dataset(\"mwritescode/slither-audited-smart-contracts\", 'big-multilabel', split='test')\n",
    "val_set = load_dataset(\"mwritescode/slither-audited-smart-contracts\", 'big-multilabel', split='validation')"
   ]
  },
  {
   "cell_type": "code",
   "execution_count": 58,
   "metadata": {},
   "outputs": [
    {
     "ename": "NameError",
     "evalue": "name 'removal_explode_map' is not defined",
     "output_type": "error",
     "traceback": [
      "\u001b[0;31m---------------------------------------------------------------------------\u001b[0m",
      "\u001b[0;31mNameError\u001b[0m                                 Traceback (most recent call last)",
      "Cell \u001b[0;32mIn[58], line 7\u001b[0m\n\u001b[1;32m      3\u001b[0m COLS_TO_REMOVE \u001b[39m=\u001b[39m [\u001b[39m'\u001b[39m\u001b[39msource_doce\u001b[39m\u001b[39m'\u001b[39m, \u001b[39m'\u001b[39m\u001b[39mbytecode\u001b[39m\u001b[39m'\u001b[39m]\n\u001b[1;32m      5\u001b[0m LABELS \u001b[39m=\u001b[39m {\u001b[39m0\u001b[39m:\u001b[39m'\u001b[39m\u001b[39maccess-control\u001b[39m\u001b[39m'\u001b[39m, \u001b[39m1\u001b[39m:\u001b[39m'\u001b[39m\u001b[39marithmetic\u001b[39m\u001b[39m'\u001b[39m, \u001b[39m2\u001b[39m:\u001b[39m'\u001b[39m\u001b[39mother\u001b[39m\u001b[39m'\u001b[39m, \u001b[39m3\u001b[39m:\u001b[39m'\u001b[39m\u001b[39mreentrancy\u001b[39m\u001b[39m'\u001b[39m, \u001b[39m4\u001b[39m:\u001b[39m'\u001b[39m\u001b[39msafe\u001b[39m\u001b[39m'\u001b[39m, \u001b[39m5\u001b[39m:\u001b[39m'\u001b[39m\u001b[39munchecked-calls\u001b[39m\u001b[39m'\u001b[39m}\n\u001b[0;32m----> 7\u001b[0m train_set\u001b[39m=\u001b[39mremoval_explode_map(train_set,COLS_TO_REMOVE,LABELS)\n\u001b[1;32m      8\u001b[0m test_set\u001b[39m=\u001b[39mremoval_explode_map(test_set,COLS_TO_REMOVE,LABELS)\n\u001b[1;32m      9\u001b[0m val_set\u001b[39m=\u001b[39mremoval_explode_map(val_set,COLS_TO_REMOVE,LABELS)\n",
      "\u001b[0;31mNameError\u001b[0m: name 'removal_explode_map' is not defined"
     ]
    }
   ],
   "source": [
    "import funciones\n",
    "\n",
    "COLS_TO_REMOVE = ['source_doce', 'bytecode']\n",
    "\n",
    "LABELS = {0:'access-control', 1:'arithmetic', 2:'other', 3:'reentrancy', 4:'safe', 5:'unchecked-calls'}\n",
    "\n",
    "train_set=removal_explode_map(train_set,COLS_TO_REMOVE,LABELS)\n",
    "test_set=removal_explode_map(test_set,COLS_TO_REMOVE,LABELS)\n",
    "val_set=removal_explode_map(val_set,COLS_TO_REMOVE,LABELS)\n"
   ]
  },
  {
   "cell_type": "markdown",
   "metadata": {},
   "source": [
    "train_set.iloc[:,:5]\n"
   ]
  },
  {
   "cell_type": "code",
   "execution_count": 46,
   "metadata": {},
   "outputs": [
    {
     "data": {
      "text/html": [
       "<div>\n",
       "<style scoped>\n",
       "    .dataframe tbody tr th:only-of-type {\n",
       "        vertical-align: middle;\n",
       "    }\n",
       "\n",
       "    .dataframe tbody tr th {\n",
       "        vertical-align: top;\n",
       "    }\n",
       "\n",
       "    .dataframe thead th {\n",
       "        text-align: right;\n",
       "    }\n",
       "</style>\n",
       "<table border=\"1\" class=\"dataframe\">\n",
       "  <thead>\n",
       "    <tr style=\"text-align: right;\">\n",
       "      <th></th>\n",
       "      <th>address</th>\n",
       "      <th>slither</th>\n",
       "    </tr>\n",
       "  </thead>\n",
       "  <tbody>\n",
       "    <tr>\n",
       "      <th>0</th>\n",
       "      <td>0x006699d34AA3013605d468d2755A2Fe59A16B12B</td>\n",
       "      <td>[1]</td>\n",
       "    </tr>\n",
       "    <tr>\n",
       "      <th>1</th>\n",
       "      <td>0x00c83aeCC790e8a4453e5dD3B0B4b3680501a7A7</td>\n",
       "      <td>[2, 1, 3]</td>\n",
       "    </tr>\n",
       "    <tr>\n",
       "      <th>2</th>\n",
       "      <td>0x010c5322d78c88ca18282b0a072a8913648b3038</td>\n",
       "      <td>[4]</td>\n",
       "    </tr>\n",
       "    <tr>\n",
       "      <th>3</th>\n",
       "      <td>0x0114622386c1a00686e594c70682d7aa0f8afa29</td>\n",
       "      <td>[4]</td>\n",
       "    </tr>\n",
       "    <tr>\n",
       "      <th>4</th>\n",
       "      <td>0x01b952402442630232f32d48380a557015b7c5ec</td>\n",
       "      <td>[2, 5]</td>\n",
       "    </tr>\n",
       "    <tr>\n",
       "      <th>...</th>\n",
       "      <td>...</td>\n",
       "      <td>...</td>\n",
       "    </tr>\n",
       "    <tr>\n",
       "      <th>79636</th>\n",
       "      <td>0x80d19b2bf1743371855732971cec24fe9dcd1417</td>\n",
       "      <td>[4]</td>\n",
       "    </tr>\n",
       "    <tr>\n",
       "      <th>79637</th>\n",
       "      <td>0x810b54cdb3d8c97d857b500cdfdb5715e1d27837</td>\n",
       "      <td>[4]</td>\n",
       "    </tr>\n",
       "    <tr>\n",
       "      <th>79638</th>\n",
       "      <td>0x8142871ce8e9b69af8b50369fde8f9959d699fa6</td>\n",
       "      <td>[4]</td>\n",
       "    </tr>\n",
       "    <tr>\n",
       "      <th>79639</th>\n",
       "      <td>0x8154094af8dc315b31c6ec746260003ee828fd93</td>\n",
       "      <td>[4]</td>\n",
       "    </tr>\n",
       "    <tr>\n",
       "      <th>79640</th>\n",
       "      <td>0x817D4Ea3b56F6ccfEA97DAfa86336c964f27598c</td>\n",
       "      <td>[1]</td>\n",
       "    </tr>\n",
       "  </tbody>\n",
       "</table>\n",
       "<p>79641 rows × 2 columns</p>\n",
       "</div>"
      ],
      "text/plain": [
       "                                          address    slither\n",
       "0      0x006699d34AA3013605d468d2755A2Fe59A16B12B        [1]\n",
       "1      0x00c83aeCC790e8a4453e5dD3B0B4b3680501a7A7  [2, 1, 3]\n",
       "2      0x010c5322d78c88ca18282b0a072a8913648b3038        [4]\n",
       "3      0x0114622386c1a00686e594c70682d7aa0f8afa29        [4]\n",
       "4      0x01b952402442630232f32d48380a557015b7c5ec     [2, 5]\n",
       "...                                           ...        ...\n",
       "79636  0x80d19b2bf1743371855732971cec24fe9dcd1417        [4]\n",
       "79637  0x810b54cdb3d8c97d857b500cdfdb5715e1d27837        [4]\n",
       "79638  0x8142871ce8e9b69af8b50369fde8f9959d699fa6        [4]\n",
       "79639  0x8154094af8dc315b31c6ec746260003ee828fd93        [4]\n",
       "79640  0x817D4Ea3b56F6ccfEA97DAfa86336c964f27598c        [1]\n",
       "\n",
       "[79641 rows x 2 columns]"
      ]
     },
     "execution_count": 46,
     "metadata": {},
     "output_type": "execute_result"
    }
   ],
   "source": [
    "train_set.iloc[:,:5]"
   ]
  },
  {
   "cell_type": "code",
   "execution_count": 42,
   "metadata": {},
   "outputs": [
    {
     "data": {
      "text/html": [
       "<div>\n",
       "<style scoped>\n",
       "    .dataframe tbody tr th:only-of-type {\n",
       "        vertical-align: middle;\n",
       "    }\n",
       "\n",
       "    .dataframe tbody tr th {\n",
       "        vertical-align: top;\n",
       "    }\n",
       "\n",
       "    .dataframe thead th {\n",
       "        text-align: right;\n",
       "    }\n",
       "</style>\n",
       "<table border=\"1\" class=\"dataframe\">\n",
       "  <thead>\n",
       "    <tr style=\"text-align: right;\">\n",
       "      <th></th>\n",
       "      <th>address</th>\n",
       "      <th>slither</th>\n",
       "    </tr>\n",
       "  </thead>\n",
       "  <tbody>\n",
       "    <tr>\n",
       "      <th>0</th>\n",
       "      <td>0x006699d34AA3013605d468d2755A2Fe59A16B12B</td>\n",
       "      <td>[1]</td>\n",
       "    </tr>\n",
       "    <tr>\n",
       "      <th>1</th>\n",
       "      <td>0x00c83aeCC790e8a4453e5dD3B0B4b3680501a7A7</td>\n",
       "      <td>[2, 1, 3]</td>\n",
       "    </tr>\n",
       "    <tr>\n",
       "      <th>2</th>\n",
       "      <td>0x010c5322d78c88ca18282b0a072a8913648b3038</td>\n",
       "      <td>[4]</td>\n",
       "    </tr>\n",
       "    <tr>\n",
       "      <th>3</th>\n",
       "      <td>0x0114622386c1a00686e594c70682d7aa0f8afa29</td>\n",
       "      <td>[4]</td>\n",
       "    </tr>\n",
       "    <tr>\n",
       "      <th>4</th>\n",
       "      <td>0x01b952402442630232f32d48380a557015b7c5ec</td>\n",
       "      <td>[2, 5]</td>\n",
       "    </tr>\n",
       "    <tr>\n",
       "      <th>...</th>\n",
       "      <td>...</td>\n",
       "      <td>...</td>\n",
       "    </tr>\n",
       "    <tr>\n",
       "      <th>79636</th>\n",
       "      <td>0x80d19b2bf1743371855732971cec24fe9dcd1417</td>\n",
       "      <td>[4]</td>\n",
       "    </tr>\n",
       "    <tr>\n",
       "      <th>79637</th>\n",
       "      <td>0x810b54cdb3d8c97d857b500cdfdb5715e1d27837</td>\n",
       "      <td>[4]</td>\n",
       "    </tr>\n",
       "    <tr>\n",
       "      <th>79638</th>\n",
       "      <td>0x8142871ce8e9b69af8b50369fde8f9959d699fa6</td>\n",
       "      <td>[4]</td>\n",
       "    </tr>\n",
       "    <tr>\n",
       "      <th>79639</th>\n",
       "      <td>0x8154094af8dc315b31c6ec746260003ee828fd93</td>\n",
       "      <td>[4]</td>\n",
       "    </tr>\n",
       "    <tr>\n",
       "      <th>79640</th>\n",
       "      <td>0x817D4Ea3b56F6ccfEA97DAfa86336c964f27598c</td>\n",
       "      <td>[1]</td>\n",
       "    </tr>\n",
       "  </tbody>\n",
       "</table>\n",
       "<p>79641 rows × 2 columns</p>\n",
       "</div>"
      ],
      "text/plain": [
       "                                          address    slither\n",
       "0      0x006699d34AA3013605d468d2755A2Fe59A16B12B        [1]\n",
       "1      0x00c83aeCC790e8a4453e5dD3B0B4b3680501a7A7  [2, 1, 3]\n",
       "2      0x010c5322d78c88ca18282b0a072a8913648b3038        [4]\n",
       "3      0x0114622386c1a00686e594c70682d7aa0f8afa29        [4]\n",
       "4      0x01b952402442630232f32d48380a557015b7c5ec     [2, 5]\n",
       "...                                           ...        ...\n",
       "79636  0x80d19b2bf1743371855732971cec24fe9dcd1417        [4]\n",
       "79637  0x810b54cdb3d8c97d857b500cdfdb5715e1d27837        [4]\n",
       "79638  0x8142871ce8e9b69af8b50369fde8f9959d699fa6        [4]\n",
       "79639  0x8154094af8dc315b31c6ec746260003ee828fd93        [4]\n",
       "79640  0x817D4Ea3b56F6ccfEA97DAfa86336c964f27598c        [1]\n",
       "\n",
       "[79641 rows x 2 columns]"
      ]
     },
     "execution_count": 42,
     "metadata": {},
     "output_type": "execute_result"
    }
   ],
   "source": []
  },
  {
   "cell_type": "code",
   "execution_count": null,
   "metadata": {},
   "outputs": [],
   "source": [
    "\n"
   ]
  },
  {
   "cell_type": "code",
   "execution_count": null,
   "metadata": {},
   "outputs": [],
   "source": [
    "a = 0\n",
    "for i in concatenated['bytecode']:\n",
    "    i = str(i)\n",
    "    byte = bytes(i,'utf-8')\n",
    "    if (len(byte)/3) > 1:\n",
    "        width, height = closestDivisors(int(len(byte)/3))\n",
    "        #print(a, width, height)\n",
    "        img = Image.frombytes(\"RGB\", (width, height), byte)\n",
    "        name = 'byte_imgs/bytecode_img_'+str(a)+'.png'\n",
    "        img.save(name)\n",
    "        a += 1\n",
    "    else:\n",
    "        a += 1\n",
    "\n"
   ]
  },
  {
   "cell_type": "code",
   "execution_count": null,
   "metadata": {},
   "outputs": [],
   "source": [
    "import os\n",
    "byte_test = str(concatenated['bytecode'][11])\n",
    "byte_test = bytes(byte_test, 'utf-8')\n",
    "#print(len(byte_test)/3)\n",
    "#print(math.sqrt(len(byte_test)/3))\n",
    "width, height = closestDivisors(int(len(byte_test)/3))\n",
    "print(width, height)"
   ]
  },
  {
   "cell_type": "code",
   "execution_count": null,
   "metadata": {},
   "outputs": [],
   "source": [
    "from PIL import Image\n",
    "import io\n",
    "import base64\n",
    "#from bitarray import byte_data\n",
    "#byte_test = io.BytesIO(\n",
    "    #base64.b64decode(\n",
    "        #byte_test\n",
    "    #)\n",
    "#)\n",
    "#print(byte_test)\n",
    "#io.BytesIO(byte_test)\n",
    "\n",
    "#Image.open(byte_test)\n",
    "img = Image.frombytes(\"RGB\", (width, height), byte_test)\n",
    "    \n",
    "img.save(\"image_sespana.png\")"
   ]
  },
  {
   "cell_type": "code",
   "execution_count": null,
   "metadata": {},
   "outputs": [],
   "source": []
  },
  {
   "attachments": {},
   "cell_type": "markdown",
   "metadata": {},
   "source": [
    "## Referencias\n",
    "- https://github.com/mwritescode/slither-audited-smart-contracts\n",
    "- "
   ]
  }
 ],
 "metadata": {
  "kernelspec": {
   "display_name": "itam",
   "language": "python",
   "name": "python3"
  },
  "language_info": {
   "codemirror_mode": {
    "name": "ipython",
    "version": 3
   },
   "file_extension": ".py",
   "mimetype": "text/x-python",
   "name": "python",
   "nbconvert_exporter": "python",
   "pygments_lexer": "ipython3",
   "version": "3.11.0"
  },
  "orig_nbformat": 4
 },
 "nbformat": 4,
 "nbformat_minor": 2
}
