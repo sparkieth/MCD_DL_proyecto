{
 "cells": [
  {
   "attachments": {},
   "cell_type": "markdown",
   "metadata": {},
   "source": [
    "https://github.com/mwritescode/slither-audited-smart-contracts\n",
    "\n",
    "The bytecode was downloaded using the Web3.py library, in particular the web3.eth.getCode()\n",
    "\n",
    "Solidity Smart Contracts that have been verified on Etherscan.io\n",
    "\n",
    "classification of vulnerabilities\n",
    "\n",
    "both binary and multilabel text\n",
    "\n",
    "este trabajo: text classification\n",
    "\n",
    "evaluated based on the accuracy\n",
    "\n",
    "nota peresonal no poner en ppt: source codes are in Solidity\n",
    "\n",
    "label: cleaned up version or a multi-label version\n",
    "\n",
    "data fields: address, source_code, bytecode, slither\n",
    "nota personal: una fila tardaba en compilar sta \n",
    "nota personal no poner en ppt: train, test and validation splits are only provided for those configurations that do not include \"all-\" in their names\n",
    "nota personal no poner en ppt: a pesar de 4 columnas el tiempo de compilación era considerable. OpenAI mencionó que ven if the DataFrame has only four rows, if the data within those rows is complex, such as having many columns, long strings or complex object types, then it can take longer to execute commands on that data."
   ]
  },
  {
   "cell_type": "code",
   "execution_count": 2,
   "metadata": {},
   "outputs": [
    {
     "name": "stderr",
     "output_type": "stream",
     "text": [
      "/Users/1thaliaespana1/opt/anaconda3/envs/itam/lib/python3.11/site-packages/tqdm/auto.py:21: TqdmWarning: IProgress not found. Please update jupyter and ipywidgets. See https://ipywidgets.readthedocs.io/en/stable/user_install.html\n",
      "  from .autonotebook import tqdm as notebook_tqdm\n"
     ]
    }
   ],
   "source": [
    "#!pip install web3\n",
    "#!pip install datasets\n",
    "#!pip install numpy==1.19.5\n",
    "\n",
    "import numpy as np\n",
    "import pandas as pd\n",
    "import re\n",
    "import seaborn as sns\n",
    "from hexbytes import HexBytes\n",
    "import matplotlib.pyplot as plt\n",
    "from datasets import load_dataset\n",
    "import sys\n",
    "sys.path.append('MCD_DL_proyecto2')\n",
    "import funciones\n",
    "import re\n",
    "import time"
   ]
  },
  {
   "cell_type": "code",
   "execution_count": 3,
   "metadata": {},
   "outputs": [
    {
     "name": "stderr",
     "output_type": "stream",
     "text": [
      "Found cached dataset slither-audited-smart-contracts (/Users/1thaliaespana1/.cache/huggingface/datasets/mwritescode___slither-audited-smart-contracts/big-multilabel/1.1.0/4cf503b59ce9d3157914e47f6253de773b7ab828f46642685d4b470b88ca1f13)\n",
      "Found cached dataset slither-audited-smart-contracts (/Users/1thaliaespana1/.cache/huggingface/datasets/mwritescode___slither-audited-smart-contracts/big-multilabel/1.1.0/4cf503b59ce9d3157914e47f6253de773b7ab828f46642685d4b470b88ca1f13)\n",
      "Found cached dataset slither-audited-smart-contracts (/Users/1thaliaespana1/.cache/huggingface/datasets/mwritescode___slither-audited-smart-contracts/big-multilabel/1.1.0/4cf503b59ce9d3157914e47f6253de773b7ab828f46642685d4b470b88ca1f13)\n"
     ]
    }
   ],
   "source": [
    "#extraido de Git repo mwritescode/slither-audited-smart-contracts\n",
    "\n",
    "train_set_original = load_dataset(\"mwritescode/slither-audited-smart-contracts\", 'big-multilabel', split='train') #verification_mode=no_checks\n",
    "test_set_original = load_dataset(\"mwritescode/slither-audited-smart-contracts\", 'big-multilabel', split='test')\n",
    "val_set_original = load_dataset(\"mwritescode/slither-audited-smart-contracts\", 'big-multilabel', split='validation')"
   ]
  },
  {
   "cell_type": "code",
   "execution_count": 5,
   "metadata": {},
   "outputs": [],
   "source": [
    "#COLS_TO_REMOVE = ['source_code', 'bytecode']\n",
    "#LABELS = {0:'access-control', 1:'arithmetic', 2:'other', 3:'reentrancy', 4:'safe', 5:'unchecked-calls'}\n",
    "\n",
    "#preparar datos: \n",
    "def preparacion(df1):\n",
    "\n",
    "    df1=pd.DataFrame(df1) #convertimos a data frame\n",
    "    target=[4 in lst for lst in df1['slither']] #cambiamos variable objetivo a 1: si hay un contrato seguro, 0 no seguro-hay 4 tipos de no seguro)\n",
    "    df1['slither']=pd.DataFrame(target).astype(int) #sustituimos lista original de objetivo por booleano target\n",
    "    bytecod=pd.factorize(df1['bytecode']) #vemos que bytecode es diferente para cada entrada\n",
    "    df1['bytecode']=bytecod[0].astype(str)\n",
    "    #------------separación de columnas de source_code-------\n",
    "    delim=['///','//','\\n\\n','\\n\\n\\n\\n','\\n\\n\\n']\n",
    "    def delimiter_sep(df,delim):\n",
    "        new_cols = df['source_code'].str.split(delim, expand=True) #separamos columnas, quedan 635 en total\n",
    "        df = pd.concat([df, new_cols], axis=1)\n",
    "        return df\n",
    "    for i in range(4):\n",
    "        df1=delimiter_sep(df1,delim[i])\n",
    "    column_names = ['source_col_{}'.format(jj) for jj in range(631)] #nombres de columnas \n",
    "    orig_names=['address','source_code','bytecode','slither']\n",
    "    column_names=orig_names + column_names\n",
    "    df1=df1.drop('address').replace(\"\\@dev\",'').replace(\"\\n\",'').replace(\"\\*\",'')\n",
    "    df1.columns=column_names\n",
    "    return df1.fillna(\"None\")\n",
    " "
   ]
  },
  {
   "cell_type": "code",
   "execution_count": 79,
   "metadata": {},
   "outputs": [
    {
     "ename": "",
     "evalue": "",
     "output_type": "error",
     "traceback": [
      "\u001b[1;31mCanceled future for execute_request message before replies were done"
     ]
    },
    {
     "ename": "",
     "evalue": "",
     "output_type": "error",
     "traceback": [
      "\u001b[1;31mThe Kernel crashed while executing code in the the current cell or a previous cell. Please review the code in the cell(s) to identify a possible cause of the failure. Click <a href='https://aka.ms/vscodeJupyterKernelCrash'>here</a> for more info. View Jupyter <a href='command:jupyter.viewOutput'>log</a> for further details."
     ]
    }
   ],
   "source": [
    "#train_set=preparacion(train_set_original)\n",
    "#test_set=preparacion(test_set_original)\n",
    "#val_set=preparacion(val_set_original)\n",
    "print(train_set)\n",
    "\n",
    "#añadir regularización"
   ]
  },
  {
   "cell_type": "code",
   "execution_count": 6,
   "metadata": {},
   "outputs": [],
   "source": [
    "train_set=preparacion(train_set_original)"
   ]
  },
  {
   "cell_type": "code",
   "execution_count": null,
   "metadata": {},
   "outputs": [
    {
     "data": {
      "text/html": [
       "<div>\n",
       "<style scoped>\n",
       "    .dataframe tbody tr th:only-of-type {\n",
       "        vertical-align: middle;\n",
       "    }\n",
       "\n",
       "    .dataframe tbody tr th {\n",
       "        vertical-align: top;\n",
       "    }\n",
       "\n",
       "    .dataframe thead th {\n",
       "        text-align: right;\n",
       "    }\n",
       "</style>\n",
       "<table border=\"1\" class=\"dataframe\">\n",
       "  <thead>\n",
       "    <tr style=\"text-align: right;\">\n",
       "      <th></th>\n",
       "      <th>address</th>\n",
       "      <th>source_code</th>\n",
       "      <th>bytecode</th>\n",
       "      <th>slither</th>\n",
       "    </tr>\n",
       "  </thead>\n",
       "  <tbody>\n",
       "    <tr>\n",
       "      <th>0</th>\n",
       "      <td>0x006699d34AA3013605d468d2755A2Fe59A16B12B</td>\n",
       "      <td>pragma solidity 0.5.4;\\n\\ninterface IERC20 {\\n...</td>\n",
       "      <td>0</td>\n",
       "      <td>0</td>\n",
       "    </tr>\n",
       "    <tr>\n",
       "      <th>1</th>\n",
       "      <td>0x00c83aeCC790e8a4453e5dD3B0B4b3680501a7A7</td>\n",
       "      <td>pragma solidity 0.6.10;\\npragma experimental A...</td>\n",
       "      <td>1</td>\n",
       "      <td>0</td>\n",
       "    </tr>\n",
       "    <tr>\n",
       "      <th>2</th>\n",
       "      <td>0x010c5322d78c88ca18282b0a072a8913648b3038</td>\n",
       "      <td>pragma solidity 0.6.5;\\npragma experimental AB...</td>\n",
       "      <td>2</td>\n",
       "      <td>1</td>\n",
       "    </tr>\n",
       "    <tr>\n",
       "      <th>3</th>\n",
       "      <td>0x0114622386c1a00686e594c70682d7aa0f8afa29</td>\n",
       "      <td>pragma solidity 0.6.6;\\n\\nlibrary Address {\\n\\...</td>\n",
       "      <td>3</td>\n",
       "      <td>1</td>\n",
       "    </tr>\n",
       "    <tr>\n",
       "      <th>4</th>\n",
       "      <td>0x01b952402442630232f32d48380a557015b7c5ec</td>\n",
       "      <td>pragma solidity 0.7.4;\\n\\nenum MathError { NO_...</td>\n",
       "      <td>4</td>\n",
       "      <td>0</td>\n",
       "    </tr>\n",
       "    <tr>\n",
       "      <th>...</th>\n",
       "      <td>...</td>\n",
       "      <td>...</td>\n",
       "      <td>...</td>\n",
       "      <td>...</td>\n",
       "    </tr>\n",
       "    <tr>\n",
       "      <th>79636</th>\n",
       "      <td>0x80d19b2bf1743371855732971cec24fe9dcd1417</td>\n",
       "      <td>/**\\n *Submitted for verification at Etherscan...</td>\n",
       "      <td>76629</td>\n",
       "      <td>1</td>\n",
       "    </tr>\n",
       "    <tr>\n",
       "      <th>79637</th>\n",
       "      <td>0x810b54cdb3d8c97d857b500cdfdb5715e1d27837</td>\n",
       "      <td>contract ERC20Basic {\\n  uint256 public totalS...</td>\n",
       "      <td>76630</td>\n",
       "      <td>1</td>\n",
       "    </tr>\n",
       "    <tr>\n",
       "      <th>79638</th>\n",
       "      <td>0x8142871ce8e9b69af8b50369fde8f9959d699fa6</td>\n",
       "      <td>contract Bodies2 {\\n\\nstring public constant b...</td>\n",
       "      <td>76631</td>\n",
       "      <td>1</td>\n",
       "    </tr>\n",
       "    <tr>\n",
       "      <th>79639</th>\n",
       "      <td>0x8154094af8dc315b31c6ec746260003ee828fd93</td>\n",
       "      <td>contract LifeSet_005 {\\n    \\n// part.I_fixe.....</td>\n",
       "      <td>76632</td>\n",
       "      <td>1</td>\n",
       "    </tr>\n",
       "    <tr>\n",
       "      <th>79640</th>\n",
       "      <td>0x817D4Ea3b56F6ccfEA97DAfa86336c964f27598c</td>\n",
       "      <td>contract Token {\\n\\n    /// @return total amou...</td>\n",
       "      <td>76633</td>\n",
       "      <td>0</td>\n",
       "    </tr>\n",
       "  </tbody>\n",
       "</table>\n",
       "<p>79641 rows × 4 columns</p>\n",
       "</div>"
      ],
      "text/plain": [
       "                                          address  \\\n",
       "0      0x006699d34AA3013605d468d2755A2Fe59A16B12B   \n",
       "1      0x00c83aeCC790e8a4453e5dD3B0B4b3680501a7A7   \n",
       "2      0x010c5322d78c88ca18282b0a072a8913648b3038   \n",
       "3      0x0114622386c1a00686e594c70682d7aa0f8afa29   \n",
       "4      0x01b952402442630232f32d48380a557015b7c5ec   \n",
       "...                                           ...   \n",
       "79636  0x80d19b2bf1743371855732971cec24fe9dcd1417   \n",
       "79637  0x810b54cdb3d8c97d857b500cdfdb5715e1d27837   \n",
       "79638  0x8142871ce8e9b69af8b50369fde8f9959d699fa6   \n",
       "79639  0x8154094af8dc315b31c6ec746260003ee828fd93   \n",
       "79640  0x817D4Ea3b56F6ccfEA97DAfa86336c964f27598c   \n",
       "\n",
       "                                             source_code bytecode  slither  \n",
       "0      pragma solidity 0.5.4;\\n\\ninterface IERC20 {\\n...        0        0  \n",
       "1      pragma solidity 0.6.10;\\npragma experimental A...        1        0  \n",
       "2      pragma solidity 0.6.5;\\npragma experimental AB...        2        1  \n",
       "3      pragma solidity 0.6.6;\\n\\nlibrary Address {\\n\\...        3        1  \n",
       "4      pragma solidity 0.7.4;\\n\\nenum MathError { NO_...        4        0  \n",
       "...                                                  ...      ...      ...  \n",
       "79636  /**\\n *Submitted for verification at Etherscan...    76629        1  \n",
       "79637  contract ERC20Basic {\\n  uint256 public totalS...    76630        1  \n",
       "79638  contract Bodies2 {\\n\\nstring public constant b...    76631        1  \n",
       "79639  contract LifeSet_005 {\\n    \\n// part.I_fixe.....    76632        1  \n",
       "79640  contract Token {\\n\\n    /// @return total amou...    76633        0  \n",
       "\n",
       "[79641 rows x 4 columns]"
      ]
     },
     "execution_count": 47,
     "metadata": {},
     "output_type": "execute_result"
    }
   ],
   "source": [
    "train_set"
   ]
  },
  {
   "cell_type": "code",
   "execution_count": 58,
   "metadata": {},
   "outputs": [],
   "source": [
    "\n"
   ]
  },
  {
   "cell_type": "code",
   "execution_count": 70,
   "metadata": {},
   "outputs": [
    {
     "data": {
      "text/plain": [
       "618"
      ]
     },
     "execution_count": 70,
     "metadata": {},
     "output_type": "execute_result"
    }
   ],
   "source": [
    "p=train_set_head.isna().sum().sort_values()\n",
    "#len(train_set_head.columns) #sub \\n @dev * 635 len"
   ]
  },
  {
   "cell_type": "code",
   "execution_count": null,
   "metadata": {},
   "outputs": [],
   "source": []
  },
  {
   "cell_type": "code",
   "execution_count": null,
   "metadata": {},
   "outputs": [],
   "source": [
    "a = 0\n",
    "for i in concatenated['bytecode']:\n",
    "    i = str(i)\n",
    "    byte = bytes(i,'utf-8')\n",
    "    if (len(byte)/3) > 1:\n",
    "        width, height = closestDivisors(int(len(byte)/3))\n",
    "        #print(a, width, height)\n",
    "        img = Image.frombytes(\"RGB\", (width, height), byte)\n",
    "        name = 'byte_imgs/bytecode_img_'+str(a)+'.png'\n",
    "        img.save(name)\n",
    "        a += 1\n",
    "    else:\n",
    "        a += 1\n",
    "\n"
   ]
  },
  {
   "cell_type": "code",
   "execution_count": null,
   "metadata": {},
   "outputs": [],
   "source": []
  },
  {
   "cell_type": "code",
   "execution_count": null,
   "metadata": {},
   "outputs": [],
   "source": []
  },
  {
   "cell_type": "code",
   "execution_count": 29,
   "metadata": {},
   "outputs": [
    {
     "name": "stdout",
     "output_type": "stream",
     "text": [
      "1\n"
     ]
    }
   ],
   "source": []
  },
  {
   "attachments": {},
   "cell_type": "markdown",
   "metadata": {},
   "source": [
    "## Referencias\n",
    "- https://github.com/mwritescode/slither-audited-smart-contracts\n",
    "- "
   ]
  }
 ],
 "metadata": {
  "kernelspec": {
   "display_name": "itam",
   "language": "python",
   "name": "python3"
  },
  "language_info": {
   "codemirror_mode": {
    "name": "ipython",
    "version": 3
   },
   "file_extension": ".py",
   "mimetype": "text/x-python",
   "name": "python",
   "nbconvert_exporter": "python",
   "pygments_lexer": "ipython3",
   "version": "3.11.0"
  },
  "orig_nbformat": 4
 },
 "nbformat": 4,
 "nbformat_minor": 2
}
