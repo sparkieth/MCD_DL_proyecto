{
 "cells": [
  {
   "cell_type": "markdown",
   "metadata": {},
   "source": [
    "Referencias Importantes:\n",
    "\n",
    "https://arxiv.org/pdf/1807.01868.pdf - Artículo de las Imagénes\n",
    "\n",
    "https://pillow.readthedocs.io/en/stable/reference/Image.html - Librería PIL\n",
    "\n",
    "https://www.geeksforgeeks.org/python-pil-image-save-method/ - Librería PIL 2"
   ]
  },
  {
   "cell_type": "code",
   "execution_count": 5,
   "metadata": {},
   "outputs": [
    {
     "name": "stdout",
     "output_type": "stream",
     "text": [
      "Collecting hexbytes\n",
      "  Downloading hexbytes-0.3.0-py3-none-any.whl (6.4 kB)\n",
      "Installing collected packages: hexbytes\n",
      "Successfully installed hexbytes-0.3.0\n",
      "\n",
      "\u001b[1m[\u001b[0m\u001b[34;49mnotice\u001b[0m\u001b[1;39;49m]\u001b[0m\u001b[39;49m A new release of pip is available: \u001b[0m\u001b[31;49m23.0.1\u001b[0m\u001b[39;49m -> \u001b[0m\u001b[32;49m23.1.1\u001b[0m\n",
      "\u001b[1m[\u001b[0m\u001b[34;49mnotice\u001b[0m\u001b[1;39;49m]\u001b[0m\u001b[39;49m To update, run: \u001b[0m\u001b[32;49m/opt/anaconda3/bin/python -m pip install --upgrade pip\u001b[0m\n",
      "Note: you may need to restart the kernel to use updated packages.\n"
     ]
    }
   ],
   "source": [
    "pip install hexbytes"
   ]
  },
  {
   "cell_type": "code",
   "execution_count": 7,
   "metadata": {},
   "outputs": [
    {
     "name": "stdout",
     "output_type": "stream",
     "text": [
      "Requirement already satisfied: datasets[vision] in /opt/anaconda3/lib/python3.8/site-packages (2.12.0)\n",
      "Requirement already satisfied: dill<0.3.7,>=0.3.0 in /opt/anaconda3/lib/python3.8/site-packages (from datasets[vision]) (0.3.6)\n",
      "Requirement already satisfied: xxhash in /opt/anaconda3/lib/python3.8/site-packages (from datasets[vision]) (3.2.0)\n",
      "Requirement already satisfied: requests>=2.19.0 in /opt/anaconda3/lib/python3.8/site-packages (from datasets[vision]) (2.24.0)\n",
      "Requirement already satisfied: multiprocess in /opt/anaconda3/lib/python3.8/site-packages (from datasets[vision]) (0.70.14)\n",
      "Requirement already satisfied: numpy>=1.17 in /opt/anaconda3/lib/python3.8/site-packages (from datasets[vision]) (1.23.3)\n",
      "Requirement already satisfied: aiohttp in /opt/anaconda3/lib/python3.8/site-packages (from datasets[vision]) (3.8.4)\n",
      "Requirement already satisfied: huggingface-hub<1.0.0,>=0.11.0 in /opt/anaconda3/lib/python3.8/site-packages (from datasets[vision]) (0.14.1)\n",
      "Requirement already satisfied: pandas in /opt/anaconda3/lib/python3.8/site-packages (from datasets[vision]) (1.2.4)\n",
      "Requirement already satisfied: pyarrow>=8.0.0 in /opt/anaconda3/lib/python3.8/site-packages (from datasets[vision]) (11.0.0)\n",
      "Requirement already satisfied: responses<0.19 in /opt/anaconda3/lib/python3.8/site-packages (from datasets[vision]) (0.18.0)\n",
      "Requirement already satisfied: tqdm>=4.62.1 in /opt/anaconda3/lib/python3.8/site-packages (from datasets[vision]) (4.62.3)\n",
      "Requirement already satisfied: packaging in /opt/anaconda3/lib/python3.8/site-packages (from datasets[vision]) (23.1)\n",
      "Requirement already satisfied: pyyaml>=5.1 in /opt/anaconda3/lib/python3.8/site-packages (from datasets[vision]) (5.3.1)\n",
      "Requirement already satisfied: fsspec[http]>=2021.11.1 in /opt/anaconda3/lib/python3.8/site-packages (from datasets[vision]) (2023.4.0)\n",
      "Requirement already satisfied: Pillow>=6.2.1 in /opt/anaconda3/lib/python3.8/site-packages (from datasets[vision]) (7.2.0)\n",
      "Requirement already satisfied: charset-normalizer<4.0,>=2.0 in /opt/anaconda3/lib/python3.8/site-packages (from aiohttp->datasets[vision]) (3.1.0)\n",
      "Requirement already satisfied: aiosignal>=1.1.2 in /opt/anaconda3/lib/python3.8/site-packages (from aiohttp->datasets[vision]) (1.3.1)\n",
      "Requirement already satisfied: frozenlist>=1.1.1 in /opt/anaconda3/lib/python3.8/site-packages (from aiohttp->datasets[vision]) (1.3.3)\n",
      "Requirement already satisfied: multidict<7.0,>=4.5 in /opt/anaconda3/lib/python3.8/site-packages (from aiohttp->datasets[vision]) (6.0.4)\n",
      "Requirement already satisfied: attrs>=17.3.0 in /opt/anaconda3/lib/python3.8/site-packages (from aiohttp->datasets[vision]) (19.3.0)\n",
      "Requirement already satisfied: yarl<2.0,>=1.0 in /opt/anaconda3/lib/python3.8/site-packages (from aiohttp->datasets[vision]) (1.9.2)\n",
      "Requirement already satisfied: async-timeout<5.0,>=4.0.0a3 in /opt/anaconda3/lib/python3.8/site-packages (from aiohttp->datasets[vision]) (4.0.2)\n",
      "Requirement already satisfied: typing-extensions>=3.7.4.3 in /opt/anaconda3/lib/python3.8/site-packages (from huggingface-hub<1.0.0,>=0.11.0->datasets[vision]) (4.5.0)\n",
      "Requirement already satisfied: filelock in /opt/anaconda3/lib/python3.8/site-packages (from huggingface-hub<1.0.0,>=0.11.0->datasets[vision]) (3.0.12)\n",
      "Requirement already satisfied: chardet<4,>=3.0.2 in /opt/anaconda3/lib/python3.8/site-packages (from requests>=2.19.0->datasets[vision]) (3.0.4)\n",
      "Requirement already satisfied: idna<3,>=2.5 in /opt/anaconda3/lib/python3.8/site-packages (from requests>=2.19.0->datasets[vision]) (2.10)\n",
      "Requirement already satisfied: urllib3!=1.25.0,!=1.25.1,<1.26,>=1.21.1 in /opt/anaconda3/lib/python3.8/site-packages (from requests>=2.19.0->datasets[vision]) (1.25.11)\n",
      "Requirement already satisfied: certifi>=2017.4.17 in /opt/anaconda3/lib/python3.8/site-packages (from requests>=2.19.0->datasets[vision]) (2021.10.8)\n",
      "Requirement already satisfied: python-dateutil>=2.7.3 in /opt/anaconda3/lib/python3.8/site-packages (from pandas->datasets[vision]) (2.8.1)\n",
      "Requirement already satisfied: pytz>=2017.3 in /opt/anaconda3/lib/python3.8/site-packages (from pandas->datasets[vision]) (2020.1)\n",
      "Requirement already satisfied: six>=1.5 in /opt/anaconda3/lib/python3.8/site-packages (from python-dateutil>=2.7.3->pandas->datasets[vision]) (1.15.0)\n",
      "\n",
      "\u001b[1m[\u001b[0m\u001b[34;49mnotice\u001b[0m\u001b[1;39;49m]\u001b[0m\u001b[39;49m A new release of pip is available: \u001b[0m\u001b[31;49m23.0.1\u001b[0m\u001b[39;49m -> \u001b[0m\u001b[32;49m23.1.1\u001b[0m\n",
      "\u001b[1m[\u001b[0m\u001b[34;49mnotice\u001b[0m\u001b[1;39;49m]\u001b[0m\u001b[39;49m To update, run: \u001b[0m\u001b[32;49m/opt/anaconda3/bin/python -m pip install --upgrade pip\u001b[0m\n",
      "Note: you may need to restart the kernel to use updated packages.\n"
     ]
    }
   ],
   "source": [
    "pip install datasets[vision]"
   ]
  },
  {
   "cell_type": "code",
   "execution_count": 1,
   "metadata": {},
   "outputs": [],
   "source": [
    "import re\n",
    "import pandas as pd\n",
    "import seaborn as sns\n",
    "from hexbytes import HexBytes\n",
    "import matplotlib.pyplot as plt\n",
    "from datasets import load_dataset"
   ]
  },
  {
   "cell_type": "code",
   "execution_count": 2,
   "metadata": {},
   "outputs": [
    {
     "name": "stderr",
     "output_type": "stream",
     "text": [
      "/opt/anaconda3/lib/python3.8/site-packages/datasets/load.py:1748: FutureWarning: 'ignore_verifications' was deprecated in favor of 'verification_mode' in version 2.9.1 and will be removed in 3.0.0.\n",
      "You can remove this warning by passing 'verification_mode=no_checks' instead.\n",
      "  warnings.warn(\n"
     ]
    },
    {
     "data": {
      "application/vnd.jupyter.widget-view+json": {
       "model_id": "f7c8dac322db4089b0b80773d5ce7e8a",
       "version_major": 2,
       "version_minor": 0
      },
      "text/plain": [
       "Downloading builder script:   0%|          | 0.00/8.00k [00:00<?, ?B/s]"
      ]
     },
     "metadata": {},
     "output_type": "display_data"
    },
    {
     "data": {
      "application/vnd.jupyter.widget-view+json": {
       "model_id": "36cd27c703824dadab4dab60eeaf97ec",
       "version_major": 2,
       "version_minor": 0
      },
      "text/plain": [
       "Downloading metadata:   0%|          | 0.00/19.9k [00:00<?, ?B/s]"
      ]
     },
     "metadata": {},
     "output_type": "display_data"
    },
    {
     "data": {
      "application/vnd.jupyter.widget-view+json": {
       "model_id": "3d29ec500ef0491faec740ce519fd50c",
       "version_major": 2,
       "version_minor": 0
      },
      "text/plain": [
       "Downloading readme:   0%|          | 0.00/7.12k [00:00<?, ?B/s]"
      ]
     },
     "metadata": {},
     "output_type": "display_data"
    },
    {
     "name": "stdout",
     "output_type": "stream",
     "text": [
      "Downloading and preparing dataset slither-audited-smart-contracts/big-multilabel (download: 1.63 GiB, generated: 4.39 GiB, post-processed: Unknown size, total: 6.01 GiB) to /Users/Shanti/.cache/huggingface/datasets/mwritescode___slither-audited-smart-contracts/big-multilabel/1.1.0/4cf503b59ce9d3157914e47f6253de773b7ab828f46642685d4b470b88ca1f13...\n"
     ]
    },
    {
     "data": {
      "application/vnd.jupyter.widget-view+json": {
       "model_id": "21f49527e29e4efda5beb0e44580aad1",
       "version_major": 2,
       "version_minor": 0
      },
      "text/plain": [
       "Downloading data files:   0%|          | 0/4 [00:00<?, ?it/s]"
      ]
     },
     "metadata": {},
     "output_type": "display_data"
    },
    {
     "data": {
      "application/vnd.jupyter.widget-view+json": {
       "model_id": "630bcee77d6e4b5f826acf81d30f913e",
       "version_major": 2,
       "version_minor": 0
      },
      "text/plain": [
       "Downloading data:   0%|          | 0.00/203M [00:00<?, ?B/s]"
      ]
     },
     "metadata": {},
     "output_type": "display_data"
    },
    {
     "data": {
      "application/vnd.jupyter.widget-view+json": {
       "model_id": "f4210cc4ba0a43558d8fb3fe5eb25e6b",
       "version_major": 2,
       "version_minor": 0
      },
      "text/plain": [
       "Downloading data:   0%|          | 0.00/197M [00:00<?, ?B/s]"
      ]
     },
     "metadata": {},
     "output_type": "display_data"
    },
    {
     "data": {
      "application/vnd.jupyter.widget-view+json": {
       "model_id": "c696274eece34023b632d230632af349",
       "version_major": 2,
       "version_minor": 0
      },
      "text/plain": [
       "Downloading data:   0%|          | 0.00/193M [00:00<?, ?B/s]"
      ]
     },
     "metadata": {},
     "output_type": "display_data"
    },
    {
     "data": {
      "application/vnd.jupyter.widget-view+json": {
       "model_id": "665c62c5df9e47669cc2e92bf5a33c31",
       "version_major": 2,
       "version_minor": 0
      },
      "text/plain": [
       "Downloading data:   0%|          | 0.00/224M [00:00<?, ?B/s]"
      ]
     },
     "metadata": {},
     "output_type": "display_data"
    },
    {
     "data": {
      "application/vnd.jupyter.widget-view+json": {
       "model_id": "fbd806211ddd46c6a1d901dedab399a9",
       "version_major": 2,
       "version_minor": 0
      },
      "text/plain": [
       "Downloading data:   0%|          | 0.00/227M [00:00<?, ?B/s]"
      ]
     },
     "metadata": {},
     "output_type": "display_data"
    },
    {
     "data": {
      "application/vnd.jupyter.widget-view+json": {
       "model_id": "3cf678b6d40e4bcc8e1cd7e2c7b59c74",
       "version_major": 2,
       "version_minor": 0
      },
      "text/plain": [
       "Downloading data:   0%|          | 0.00/232M [00:00<?, ?B/s]"
      ]
     },
     "metadata": {},
     "output_type": "display_data"
    },
    {
     "data": {
      "application/vnd.jupyter.widget-view+json": {
       "model_id": "ee8177cc697843cf8f266bd23ce025ec",
       "version_major": 2,
       "version_minor": 0
      },
      "text/plain": [
       "Downloading data:   0%|          | 0.00/230M [00:00<?, ?B/s]"
      ]
     },
     "metadata": {},
     "output_type": "display_data"
    },
    {
     "data": {
      "application/vnd.jupyter.widget-view+json": {
       "model_id": "64211d518241446ca5023fecb4a91d43",
       "version_major": 2,
       "version_minor": 0
      },
      "text/plain": [
       "Downloading data:   0%|          | 0.00/233M [00:00<?, ?B/s]"
      ]
     },
     "metadata": {},
     "output_type": "display_data"
    },
    {
     "data": {
      "application/vnd.jupyter.widget-view+json": {
       "model_id": "ad66af749a2d4040acb5ebf147182867",
       "version_major": 2,
       "version_minor": 0
      },
      "text/plain": [
       "Downloading data:   0%|          | 0.00/4.04M [00:00<?, ?B/s]"
      ]
     },
     "metadata": {},
     "output_type": "display_data"
    },
    {
     "data": {
      "application/vnd.jupyter.widget-view+json": {
       "model_id": "7908c894b56441fa8493d786a959ea8b",
       "version_major": 2,
       "version_minor": 0
      },
      "text/plain": [
       "Downloading data:   0%|          | 0.00/1.26k [00:00<?, ?B/s]"
      ]
     },
     "metadata": {},
     "output_type": "display_data"
    },
    {
     "data": {
      "application/vnd.jupyter.widget-view+json": {
       "model_id": "7c7160acfbb84e3180ba51004d83adb2",
       "version_major": 2,
       "version_minor": 0
      },
      "text/plain": [
       "Downloading data:   0%|          | 0.00/4.97M [00:00<?, ?B/s]"
      ]
     },
     "metadata": {},
     "output_type": "display_data"
    },
    {
     "data": {
      "application/vnd.jupyter.widget-view+json": {
       "model_id": "2157b79fc32d417db58db869fc581308",
       "version_major": 2,
       "version_minor": 0
      },
      "text/plain": [
       "Downloading data:   0%|          | 0.00/659k [00:00<?, ?B/s]"
      ]
     },
     "metadata": {},
     "output_type": "display_data"
    },
    {
     "data": {
      "application/vnd.jupyter.widget-view+json": {
       "model_id": "4b1bfa31507a49c9b8c01c6c966d6639",
       "version_major": 2,
       "version_minor": 0
      },
      "text/plain": [
       "Extracting data files:   0%|          | 0/4 [00:00<?, ?it/s]"
      ]
     },
     "metadata": {},
     "output_type": "display_data"
    },
    {
     "data": {
      "application/vnd.jupyter.widget-view+json": {
       "model_id": "6975149789f24dfcb516aeebd5f56265",
       "version_major": 2,
       "version_minor": 0
      },
      "text/plain": [
       "Generating train split:   0%|          | 0/79641 [00:00<?, ? examples/s]"
      ]
     },
     "metadata": {},
     "output_type": "display_data"
    },
    {
     "data": {
      "application/vnd.jupyter.widget-view+json": {
       "model_id": "197b6a9c41644b68a38c78746b2f1e78",
       "version_major": 2,
       "version_minor": 0
      },
      "text/plain": [
       "Generating test split:   0%|          | 0/15972 [00:00<?, ? examples/s]"
      ]
     },
     "metadata": {},
     "output_type": "display_data"
    },
    {
     "data": {
      "application/vnd.jupyter.widget-view+json": {
       "model_id": "e7c11a46567449e78a28e052b3195d91",
       "version_major": 2,
       "version_minor": 0
      },
      "text/plain": [
       "Generating validation split:   0%|          | 0/10861 [00:00<?, ? examples/s]"
      ]
     },
     "metadata": {},
     "output_type": "display_data"
    },
    {
     "name": "stdout",
     "output_type": "stream",
     "text": [
      "Dataset slither-audited-smart-contracts downloaded and prepared to /Users/Shanti/.cache/huggingface/datasets/mwritescode___slither-audited-smart-contracts/big-multilabel/1.1.0/4cf503b59ce9d3157914e47f6253de773b7ab828f46642685d4b470b88ca1f13. Subsequent calls will reuse this data.\n"
     ]
    },
    {
     "name": "stderr",
     "output_type": "stream",
     "text": [
      "Found cached dataset slither-audited-smart-contracts (/Users/Shanti/.cache/huggingface/datasets/mwritescode___slither-audited-smart-contracts/big-multilabel/1.1.0/4cf503b59ce9d3157914e47f6253de773b7ab828f46642685d4b470b88ca1f13)\n",
      "Found cached dataset slither-audited-smart-contracts (/Users/Shanti/.cache/huggingface/datasets/mwritescode___slither-audited-smart-contracts/big-multilabel/1.1.0/4cf503b59ce9d3157914e47f6253de773b7ab828f46642685d4b470b88ca1f13)\n"
     ]
    }
   ],
   "source": [
    "# Due to a bug in the HuggingFace dataset, at the moment two file checksums do not correspond to what\n",
    "# is in the dataset metadata, thus we have to load the data splits with the flag ignore_verification\n",
    "# set to true\n",
    "train_set = load_dataset(\"mwritescode/slither-audited-smart-contracts\", 'big-multilabel', split='train', ignore_verifications=True)\n",
    "test_set = load_dataset(\"mwritescode/slither-audited-smart-contracts\", 'big-multilabel', split='test', ignore_verifications=True)\n",
    "val_set = load_dataset(\"mwritescode/slither-audited-smart-contracts\", 'big-multilabel', split='validation', ignore_verifications=True)\n",
    "     \n"
   ]
  },
  {
   "cell_type": "markdown",
   "metadata": {},
   "source": [
    "Let's now define a couple of utility functions for the pre-precessing:"
   ]
  },
  {
   "cell_type": "code",
   "execution_count": 9,
   "metadata": {},
   "outputs": [],
   "source": [
    "def remove_comments(string):\n",
    "    pattern = r\"(\\\".*?\\\"|\\'.*?\\')|(/\\*.*?\\*/|//[^\\r\\n]*$)\"\n",
    "    # first group captures quoted strings (double or single)\n",
    "    # second group captures comments (//single-line or /* multi-line */)\n",
    "    regex = re.compile(pattern, re.MULTILINE|re.DOTALL)\n",
    "    def _replacer(match):\n",
    "        # if the 2nd group is not None, then we have captured a real comment string.\n",
    "        if match.group(2) is not None:\n",
    "            return \"\" \n",
    "        else: # otherwise, we will return the 1st group\n",
    "            return match.group(1) \n",
    "    return regex.sub(_replacer, string)\n",
    "\n",
    "def get_lenghts(example):\n",
    "    code = remove_comments(example['source_code'])\n",
    "    example['sourcecode_len'] = len(code.split())\n",
    "    example['bytecode_len'] = len(HexBytes(example['bytecode']))\n",
    "    return example"
   ]
  },
  {
   "cell_type": "markdown",
   "metadata": {},
   "source": [
    "Now we can use HuggingFace datasets map() function to apply the transformations we defined above to all our dataset splits. The same function also allows us to remove attributes that are useless for our Exploratory Data Analysis steps. Finally, we'll concatenate all the splits in a single pandas DataFrame, which is compatible with seaborn's plotting utilities. "
   ]
  },
  {
   "cell_type": "code",
   "execution_count": 14,
   "metadata": {
    "scrolled": true
   },
   "outputs": [
    {
     "name": "stderr",
     "output_type": "stream",
     "text": [
      "Loading cached processed dataset at /Users/Shanti/.cache/huggingface/datasets/mwritescode___slither-audited-smart-contracts/big-multilabel/1.1.0/4cf503b59ce9d3157914e47f6253de773b7ab828f46642685d4b470b88ca1f13/cache-d5eb0b7f3e9688dd.arrow\n",
      "Loading cached processed dataset at /Users/Shanti/.cache/huggingface/datasets/mwritescode___slither-audited-smart-contracts/big-multilabel/1.1.0/4cf503b59ce9d3157914e47f6253de773b7ab828f46642685d4b470b88ca1f13/cache-babed9aaf7578c73.arrow\n",
      "Loading cached processed dataset at /Users/Shanti/.cache/huggingface/datasets/mwritescode___slither-audited-smart-contracts/big-multilabel/1.1.0/4cf503b59ce9d3157914e47f6253de773b7ab828f46642685d4b470b88ca1f13/cache-ecd71a5b391cc529.arrow\n"
     ]
    }
   ],
   "source": [
    "COLS_TO_REMOVE = ['source_code', 'bytecode']\n",
    "\n",
    "LABELS = {0:'access-control', 1:'arithmetic', 2:'other', 3:'reentrancy', 4:'safe', 5:'unchecked-calls'}\n",
    "\n",
    "datasets = []\n",
    "for split in [train_set, test_set, val_set]:\n",
    "    split_df = pd.DataFrame(split.map(get_lenghts, remove_columns=COLS_TO_REMOVE)).explode('slither')\n",
    "    split_df['slither'] = split_df['slither'].map(LABELS)\n",
    "    datasets.append(split_df)\n"
   ]
  },
  {
   "cell_type": "code",
   "execution_count": 22,
   "metadata": {},
   "outputs": [],
   "source": [
    "for split, split_name in zip(datasets, ['train', 'test', 'val']):\n",
    "    ncatenated = pd.concat([split.assign(dataset=split_name)])"
   ]
  },
  {
   "cell_type": "code",
   "execution_count": 23,
   "metadata": {},
   "outputs": [
    {
     "data": {
      "text/html": [
       "<div>\n",
       "<style scoped>\n",
       "    .dataframe tbody tr th:only-of-type {\n",
       "        vertical-align: middle;\n",
       "    }\n",
       "\n",
       "    .dataframe tbody tr th {\n",
       "        vertical-align: top;\n",
       "    }\n",
       "\n",
       "    .dataframe thead th {\n",
       "        text-align: right;\n",
       "    }\n",
       "</style>\n",
       "<table border=\"1\" class=\"dataframe\">\n",
       "  <thead>\n",
       "    <tr style=\"text-align: right;\">\n",
       "      <th></th>\n",
       "      <th>address</th>\n",
       "      <th>slither</th>\n",
       "      <th>sourcecode_len</th>\n",
       "      <th>bytecode_len</th>\n",
       "      <th>dataset</th>\n",
       "    </tr>\n",
       "  </thead>\n",
       "  <tbody>\n",
       "    <tr>\n",
       "      <th>0</th>\n",
       "      <td>0x0518a3c95f777b585dde38814331077c325565b1</td>\n",
       "      <td>safe</td>\n",
       "      <td>724</td>\n",
       "      <td>5135</td>\n",
       "      <td>val</td>\n",
       "    </tr>\n",
       "    <tr>\n",
       "      <th>1</th>\n",
       "      <td>0x0a98ad316dfbcdaef91e382348a0c3639ec8f9d3</td>\n",
       "      <td>reentrancy</td>\n",
       "      <td>3808</td>\n",
       "      <td>10977</td>\n",
       "      <td>val</td>\n",
       "    </tr>\n",
       "    <tr>\n",
       "      <th>1</th>\n",
       "      <td>0x0a98ad316dfbcdaef91e382348a0c3639ec8f9d3</td>\n",
       "      <td>other</td>\n",
       "      <td>3808</td>\n",
       "      <td>10977</td>\n",
       "      <td>val</td>\n",
       "    </tr>\n",
       "    <tr>\n",
       "      <th>1</th>\n",
       "      <td>0x0a98ad316dfbcdaef91e382348a0c3639ec8f9d3</td>\n",
       "      <td>arithmetic</td>\n",
       "      <td>3808</td>\n",
       "      <td>10977</td>\n",
       "      <td>val</td>\n",
       "    </tr>\n",
       "    <tr>\n",
       "      <th>1</th>\n",
       "      <td>0x0a98ad316dfbcdaef91e382348a0c3639ec8f9d3</td>\n",
       "      <td>unchecked-calls</td>\n",
       "      <td>3808</td>\n",
       "      <td>10977</td>\n",
       "      <td>val</td>\n",
       "    </tr>\n",
       "  </tbody>\n",
       "</table>\n",
       "</div>"
      ],
      "text/plain": [
       "                                      address          slither  \\\n",
       "0  0x0518a3c95f777b585dde38814331077c325565b1             safe   \n",
       "1  0x0a98ad316dfbcdaef91e382348a0c3639ec8f9d3       reentrancy   \n",
       "1  0x0a98ad316dfbcdaef91e382348a0c3639ec8f9d3            other   \n",
       "1  0x0a98ad316dfbcdaef91e382348a0c3639ec8f9d3       arithmetic   \n",
       "1  0x0a98ad316dfbcdaef91e382348a0c3639ec8f9d3  unchecked-calls   \n",
       "\n",
       "   sourcecode_len  bytecode_len dataset  \n",
       "0             724          5135     val  \n",
       "1            3808         10977     val  \n",
       "1            3808         10977     val  \n",
       "1            3808         10977     val  \n",
       "1            3808         10977     val  "
      ]
     },
     "execution_count": 23,
     "metadata": {},
     "output_type": "execute_result"
    }
   ],
   "source": [
    "ncatenated.head(5)"
   ]
  },
  {
   "cell_type": "markdown",
   "metadata": {},
   "source": [
    "SMART CONTRACTS CON BYTECODE"
   ]
  },
  {
   "cell_type": "code",
   "execution_count": 24,
   "metadata": {},
   "outputs": [],
   "source": [
    "def remove_comments(string):\n",
    "    pattern = r\"(\\\".*?\\\"|\\'.*?\\')|(/\\*.*?\\*/|//[^\\r\\n]*$)\"\n",
    "    # first group captures quoted strings (double or single)\n",
    "    # second group captures comments (//single-line or /* multi-line */)\n",
    "    regex = re.compile(pattern, re.MULTILINE|re.DOTALL)\n",
    "    def _replacer(match):\n",
    "        # if the 2nd group is not None, then we have captured a real comment string.\n",
    "        if match.group(2) is not None:\n",
    "            return \"\" \n",
    "        else: # otherwise, we will return the 1st group\n",
    "            return match.group(1) \n",
    "    return regex.sub(_replacer, string)\n",
    "\n",
    "def get_lenghts(example):\n",
    "    code = remove_comments(example['source_code'])\n",
    "    example['sourcecode_len'] = len(code.split())\n",
    "    return example"
   ]
  },
  {
   "cell_type": "code",
   "execution_count": 25,
   "metadata": {},
   "outputs": [
    {
     "data": {
      "application/vnd.jupyter.widget-view+json": {
       "model_id": "9f6f6deef5a840588988ff06fb3d190f",
       "version_major": 2,
       "version_minor": 0
      },
      "text/plain": [
       "Map:   0%|          | 0/79641 [00:00<?, ? examples/s]"
      ]
     },
     "metadata": {},
     "output_type": "display_data"
    },
    {
     "data": {
      "application/vnd.jupyter.widget-view+json": {
       "model_id": "eb23122d951246c480469d3f34e6b2ea",
       "version_major": 2,
       "version_minor": 0
      },
      "text/plain": [
       "Map:   0%|          | 0/15972 [00:00<?, ? examples/s]"
      ]
     },
     "metadata": {},
     "output_type": "display_data"
    },
    {
     "data": {
      "application/vnd.jupyter.widget-view+json": {
       "model_id": "9b1f56cd43b7479881ce06a792fc451e",
       "version_major": 2,
       "version_minor": 0
      },
      "text/plain": [
       "Map:   0%|          | 0/10861 [00:00<?, ? examples/s]"
      ]
     },
     "metadata": {},
     "output_type": "display_data"
    }
   ],
   "source": [
    "COLS_TO_REMOVE = ['source_code']\n",
    "\n",
    "LABELS = {0:'access-control', 1:'arithmetic', 2:'other', 3:'reentrancy', 4:'safe', 5:'unchecked-calls'}\n",
    "\n",
    "datasets = []\n",
    "for split in [train_set, test_set, val_set]:\n",
    "    split_df = pd.DataFrame(split.map(get_lenghts, remove_columns=COLS_TO_REMOVE)).explode('slither')\n",
    "    split_df['slither'] = split_df['slither'].map(LABELS)\n",
    "    datasets.append(split_df)\n"
   ]
  },
  {
   "cell_type": "code",
   "execution_count": 26,
   "metadata": {},
   "outputs": [],
   "source": [
    "for split, split_name in zip(datasets, ['train', 'test', 'val']):\n",
    "    concatenated = pd.concat([split.assign(dataset=split_name)])"
   ]
  },
  {
   "cell_type": "code",
   "execution_count": 27,
   "metadata": {},
   "outputs": [
    {
     "data": {
      "text/html": [
       "<div>\n",
       "<style scoped>\n",
       "    .dataframe tbody tr th:only-of-type {\n",
       "        vertical-align: middle;\n",
       "    }\n",
       "\n",
       "    .dataframe tbody tr th {\n",
       "        vertical-align: top;\n",
       "    }\n",
       "\n",
       "    .dataframe thead th {\n",
       "        text-align: right;\n",
       "    }\n",
       "</style>\n",
       "<table border=\"1\" class=\"dataframe\">\n",
       "  <thead>\n",
       "    <tr style=\"text-align: right;\">\n",
       "      <th></th>\n",
       "      <th>address</th>\n",
       "      <th>bytecode</th>\n",
       "      <th>slither</th>\n",
       "      <th>sourcecode_len</th>\n",
       "      <th>dataset</th>\n",
       "    </tr>\n",
       "  </thead>\n",
       "  <tbody>\n",
       "    <tr>\n",
       "      <th>0</th>\n",
       "      <td>0x0518a3c95f777b585dde38814331077c325565b1</td>\n",
       "      <td>0x6080604052600436106100c5576000357c0100000000...</td>\n",
       "      <td>safe</td>\n",
       "      <td>724</td>\n",
       "      <td>val</td>\n",
       "    </tr>\n",
       "    <tr>\n",
       "      <th>1</th>\n",
       "      <td>0x0a98ad316dfbcdaef91e382348a0c3639ec8f9d3</td>\n",
       "      <td>0x608060405234801561001057600080fd5b5060043610...</td>\n",
       "      <td>reentrancy</td>\n",
       "      <td>3808</td>\n",
       "      <td>val</td>\n",
       "    </tr>\n",
       "    <tr>\n",
       "      <th>1</th>\n",
       "      <td>0x0a98ad316dfbcdaef91e382348a0c3639ec8f9d3</td>\n",
       "      <td>0x608060405234801561001057600080fd5b5060043610...</td>\n",
       "      <td>other</td>\n",
       "      <td>3808</td>\n",
       "      <td>val</td>\n",
       "    </tr>\n",
       "    <tr>\n",
       "      <th>1</th>\n",
       "      <td>0x0a98ad316dfbcdaef91e382348a0c3639ec8f9d3</td>\n",
       "      <td>0x608060405234801561001057600080fd5b5060043610...</td>\n",
       "      <td>arithmetic</td>\n",
       "      <td>3808</td>\n",
       "      <td>val</td>\n",
       "    </tr>\n",
       "    <tr>\n",
       "      <th>1</th>\n",
       "      <td>0x0a98ad316dfbcdaef91e382348a0c3639ec8f9d3</td>\n",
       "      <td>0x608060405234801561001057600080fd5b5060043610...</td>\n",
       "      <td>unchecked-calls</td>\n",
       "      <td>3808</td>\n",
       "      <td>val</td>\n",
       "    </tr>\n",
       "  </tbody>\n",
       "</table>\n",
       "</div>"
      ],
      "text/plain": [
       "                                      address  \\\n",
       "0  0x0518a3c95f777b585dde38814331077c325565b1   \n",
       "1  0x0a98ad316dfbcdaef91e382348a0c3639ec8f9d3   \n",
       "1  0x0a98ad316dfbcdaef91e382348a0c3639ec8f9d3   \n",
       "1  0x0a98ad316dfbcdaef91e382348a0c3639ec8f9d3   \n",
       "1  0x0a98ad316dfbcdaef91e382348a0c3639ec8f9d3   \n",
       "\n",
       "                                            bytecode          slither  \\\n",
       "0  0x6080604052600436106100c5576000357c0100000000...             safe   \n",
       "1  0x608060405234801561001057600080fd5b5060043610...       reentrancy   \n",
       "1  0x608060405234801561001057600080fd5b5060043610...            other   \n",
       "1  0x608060405234801561001057600080fd5b5060043610...       arithmetic   \n",
       "1  0x608060405234801561001057600080fd5b5060043610...  unchecked-calls   \n",
       "\n",
       "   sourcecode_len dataset  \n",
       "0             724     val  \n",
       "1            3808     val  \n",
       "1            3808     val  \n",
       "1            3808     val  \n",
       "1            3808     val  "
      ]
     },
     "execution_count": 27,
     "metadata": {},
     "output_type": "execute_result"
    }
   ],
   "source": [
    "concatenated.head(5)"
   ]
  },
  {
   "cell_type": "code",
   "execution_count": 250,
   "metadata": {},
   "outputs": [],
   "source": [
    "import math\n",
    "import os\n",
    "from PIL import Image\n",
    "\n",
    "def closestDivisors(n):\n",
    "    a = round(math.sqrt(n))\n",
    "    while n%a > 0: a -= 1\n",
    "    return a,n//a"
   ]
  },
  {
   "cell_type": "code",
   "execution_count": 252,
   "metadata": {
    "scrolled": false
   },
   "outputs": [],
   "source": [
    "a = 0\n",
    "for i in concatenated['bytecode']:\n",
    "    i = str(i)\n",
    "    byte = bytes(i,'utf-8')\n",
    "    if (len(byte)/3) > 1:\n",
    "        width, height = closestDivisors(int(len(byte)/3))\n",
    "        #print(a, width, height)\n",
    "        img = Image.frombytes(\"RGB\", (width, height), byte)\n",
    "        name = 'byte_imgs/bytecode_img_'+str(a)+'.png'\n",
    "        img.save(name)\n",
    "        a += 1\n",
    "    else:\n",
    "        a += 1"
   ]
  },
  {
   "cell_type": "code",
   "execution_count": 262,
   "metadata": {},
   "outputs": [
    {
     "name": "stdout",
     "output_type": "stream",
     "text": [
      "65.66666666666667\n",
      "5 13\n"
     ]
    }
   ],
   "source": [
    "import os\n",
    "byte_test = str(concatenated['bytecode'][11])\n",
    "byte_test = bytes(byte_test, 'utf-8')\n",
    "#print(len(byte_test)/3)\n",
    "#print(math.sqrt(len(byte_test)/3))\n",
    "width, height = closestDivisors(int(len(byte_test)/3))\n",
    "print(width, height)"
   ]
  },
  {
   "cell_type": "code",
   "execution_count": 226,
   "metadata": {
    "scrolled": false
   },
   "outputs": [],
   "source": [
    "from PIL import Image\n",
    "import io\n",
    "import base64\n",
    "#from bitarray import byte_data\n",
    "#byte_test = io.BytesIO(\n",
    "    #base64.b64decode(\n",
    "        #byte_test\n",
    "    #)\n",
    "#)\n",
    "#print(byte_test)\n",
    "#io.BytesIO(byte_test)\n",
    "\n",
    "#Image.open(byte_test)\n",
    "img = Image.frombytes(\"RGB\", (width, height), byte_test)\n",
    "    \n",
    "img.save(\"byte_imgs/pitoanal.png\")"
   ]
  }
 ],
 "metadata": {
  "kernelspec": {
   "display_name": "mditam",
   "language": "python",
   "name": "mditam"
  },
  "language_info": {
   "codemirror_mode": {
    "name": "ipython",
    "version": 3
   },
   "file_extension": ".py",
   "mimetype": "text/x-python",
   "name": "python",
   "nbconvert_exporter": "python",
   "pygments_lexer": "ipython3",
   "version": "3.8.3"
  }
 },
 "nbformat": 4,
 "nbformat_minor": 4
}
